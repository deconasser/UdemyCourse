{
  "nbformat": 4,
  "nbformat_minor": 0,
  "metadata": {
    "colab": {
      "provenance": [],
      "authorship_tag": "ABX9TyPnt5aKSKnD0atCwKi/sk+p",
      "include_colab_link": true
    },
    "kernelspec": {
      "name": "python3",
      "display_name": "Python 3"
    },
    "language_info": {
      "name": "python"
    }
  },
  "cells": [
    {
      "cell_type": "markdown",
      "metadata": {
        "id": "view-in-github",
        "colab_type": "text"
      },
      "source": [
        "<a href=\"https://colab.research.google.com/github/deconasser/UdemyCourse/blob/main/Jose%20Portilla%2C%20Plerian%20Training/Section6/Section6_Grid_Detection.ipynb\" target=\"_parent\"><img src=\"https://colab.research.google.com/assets/colab-badge.svg\" alt=\"Open In Colab\"/></a>"
      ]
    },
    {
      "cell_type": "code",
      "execution_count": 1,
      "metadata": {
        "id": "kfAjucgvzHs6"
      },
      "outputs": [],
      "source": [
        "import cv2\n",
        "import numpy as np\n",
        "import matplotlib.pyplot as plt\n",
        "%matplotlib inline\n"
      ]
    },
    {
      "cell_type": "code",
      "source": [
        "flat_chess = cv2.imread(\"/content/flat_chessboard.png\")"
      ],
      "metadata": {
        "id": "qVPEfw4Pzips"
      },
      "execution_count": 2,
      "outputs": []
    },
    {
      "cell_type": "code",
      "source": [
        "plt.imshow(flat_chess)"
      ],
      "metadata": {
        "colab": {
          "base_uri": "https://localhost:8080/",
          "height": 452
        },
        "id": "jKq5onwVzr1m",
        "outputId": "57691da1-b154-48ff-e728-96c4234b95c6"
      },
      "execution_count": 3,
      "outputs": [
        {
          "output_type": "execute_result",
          "data": {
            "text/plain": [
              "<matplotlib.image.AxesImage at 0x7d58c8bc57e0>"
            ]
          },
          "metadata": {},
          "execution_count": 3
        },
        {
          "output_type": "display_data",
          "data": {
            "text/plain": [
              "<Figure size 640x480 with 1 Axes>"
            ],
            "image/png": "[encoded data removed]"
          },
          "metadata": {}
        }
      ]
    },
    {
      "cell_type": "code",
      "source": [
        " found, corners = cv2.findChessboardCorners(flat_chess, (7,7))"
      ],
      "metadata": {
        "id": "eCEgsOOvzxC-"
      },
      "execution_count": 4,
      "outputs": []
    },
    {
      "cell_type": "code",
      "source": [
        "cv2.drawChessboardCorners(flat_chess, (7,7), corners, found)"
      ],
      "metadata": {
        "colab": {
          "base_uri": "https://localhost:8080/",
          "height": 391
        },
        "id": "PMwOw-Dq0C4g",
        "outputId": "a62da200-5b56-4954-bc50-ab81c8ee5553"
      },
      "execution_count": 5,
      "outputs": [
        {
          "output_type": "execute_result",
          "data": {
            "text/plain": [
              "array([[[158, 206, 255],\n",
              "        [158, 206, 255],\n",
              "        [158, 206, 255],\n",
              "        ...,\n",
              "        [ 71, 139, 209],\n",
              "        [ 71, 139, 209],\n",
              "        [ 71, 139, 209]],\n",
              "\n",
              "       [[158, 206, 255],\n",
              "        [158, 206, 255],\n",
              "        [158, 206, 255],\n",
              "        ...,\n",
              "        [ 71, 139, 209],\n",
              "        [ 71, 139, 209],\n",
              "        [ 71, 139, 209]],\n",
              "\n",
              "       [[158, 206, 255],\n",
              "        [158, 206, 255],\n",
              "        [158, 206, 255],\n",
              "        ...,\n",
              "        [ 71, 139, 209],\n",
              "        [ 71, 139, 209],\n",
              "        [ 71, 139, 209]],\n",
              "\n",
              "       ...,\n",
              "\n",
              "       [[ 71, 139, 209],\n",
              "        [ 71, 139, 209],\n",
              "        [ 71, 139, 209],\n",
              "        ...,\n",
              "        [158, 206, 255],\n",
              "        [158, 206, 255],\n",
              "        [158, 206, 255]],\n",
              "\n",
              "       [[ 71, 139, 209],\n",
              "        [ 71, 139, 209],\n",
              "        [ 71, 139, 209],\n",
              "        ...,\n",
              "        [158, 206, 255],\n",
              "        [158, 206, 255],\n",
              "        [158, 206, 255]],\n",
              "\n",
              "       [[ 71, 139, 209],\n",
              "        [ 71, 139, 209],\n",
              "        [ 71, 139, 209],\n",
              "        ...,\n",
              "        [158, 206, 255],\n",
              "        [158, 206, 255],\n",
              "        [158, 206, 255]]], dtype=uint8)"
            ],
            "text/html": [
              "<style>\n",
              "      .ndarray_repr .ndarray_raw_data {\n",
              "        display: none;\n",
              "      }\n",
              "      .ndarray_repr.show_array .ndarray_raw_data {\n",
              "        display: block;\n",
              "      }\n",
              "      .ndarray_repr.show_array .ndarray_image_preview {\n",
              "        display: none;\n",
              "      }\n",
              "      </style>\n",
              "      <div id=\"id-db8d640f-9c52-464d-9bf9-df3d0514ce37\" class=\"ndarray_repr\"><pre>ndarray (352, 352, 3) <button style=\"padding: 0 2px;\">show data</button></pre><img src=\"data:image/png;base64,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\" class=\"ndarray_image_preview\" /><pre class=\"ndarray_raw_data\">array([[[158, 206, 255],\n",
              "        [158, 206, 255],\n",
              "        [158, 206, 255],\n",
              "        ...,\n",
              "        [ 71, 139, 209],\n",
              "        [ 71, 139, 209],\n",
              "        [ 71, 139, 209]],\n",
              "\n",
              "       [[158, 206, 255],\n",
              "        [158, 206, 255],\n",
              "        [158, 206, 255],\n",
              "        ...,\n",
              "        [ 71, 139, 209],\n",
              "        [ 71, 139, 209],\n",
              "        [ 71, 139, 209]],\n",
              "\n",
              "       [[158, 206, 255],\n",
              "        [158, 206, 255],\n",
              "        [158, 206, 255],\n",
              "        ...,\n",
              "        [ 71, 139, 209],\n",
              "        [ 71, 139, 209],\n",
              "        [ 71, 139, 209]],\n",
              "\n",
              "       ...,\n",
              "\n",
              "       [[ 71, 139, 209],\n",
              "        [ 71, 139, 209],\n",
              "        [ 71, 139, 209],\n",
              "        ...,\n",
              "        [158, 206, 255],\n",
              "        [158, 206, 255],\n",
              "        [158, 206, 255]],\n",
              "\n",
              "       [[ 71, 139, 209],\n",
              "        [ 71, 139, 209],\n",
              "        [ 71, 139, 209],\n",
              "        ...,\n",
              "        [158, 206, 255],\n",
              "        [158, 206, 255],\n",
              "        [158, 206, 255]],\n",
              "\n",
              "       [[ 71, 139, 209],\n",
              "        [ 71, 139, 209],\n",
              "        [ 71, 139, 209],\n",
              "        ...,\n",
              "        [158, 206, 255],\n",
              "        [158, 206, 255],\n",
              "        [158, 206, 255]]], dtype=uint8)</pre></div><script>\n",
              "      (() => {\n",
              "      const titles = ['show data', 'hide data'];\n",
              "      let index = 0\n",
              "      document.querySelector('#id-db8d640f-9c52-464d-9bf9-df3d0514ce37 button').onclick = (e) => {\n",
              "        document.querySelector('#id-db8d640f-9c52-464d-9bf9-df3d0514ce37').classList.toggle('show_array');\n",
              "        index = (++index) % 2;\n",
              "        document.querySelector('#id-db8d640f-9c52-464d-9bf9-df3d0514ce37 button').textContent = titles[index];\n",
              "        e.preventDefault();\n",
              "        e.stopPropagation();\n",
              "      }\n",
              "      })();\n",
              "    </script>"
            ]
          },
          "metadata": {},
          "execution_count": 5
        }
      ]
    },
    {
      "cell_type": "code",
      "source": [],
      "metadata": {
        "id": "1RUs5xl30NJ_"
      },
      "execution_count": null,
      "outputs": []
    }
  ]
}